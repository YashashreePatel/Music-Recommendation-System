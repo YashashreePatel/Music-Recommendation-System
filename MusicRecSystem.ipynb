{
  "nbformat": 4,
  "nbformat_minor": 0,
  "metadata": {
    "colab": {
      "provenance": []
    },
    "kernelspec": {
      "name": "python3",
      "display_name": "Python 3"
    },
    "accelerator": "GPU"
  },
  "cells": [
    {
      "cell_type": "code",
      "metadata": {
        "id": "ZRtzD6R2Te39",
        "colab": {
          "base_uri": "https://localhost:8080/"
        },
        "outputId": "acdfdba4-f9da-412b-80a3-c6c7c7cf622f"
      },
      "source": [
        "import pandas as pd\n",
        "import matplotlib.pyplot as plt\n",
        "import numpy as np\n",
        "import seaborn as sns\n",
        "import sklearn\n",
        "from sklearn.model_selection import train_test_split\n",
        "import time as tm\n",
        "import Recommenders as rc\n",
        "import Evaluation as ev\n",
        "%matplotlib"
      ],
      "execution_count": 1,
      "outputs": [
        {
          "output_type": "stream",
          "name": "stdout",
          "text": [
            "Using matplotlib backend: agg\n"
          ]
        }
      ]
    },
    {
      "cell_type": "markdown",
      "metadata": {
        "id": "njCEEL7HMRCE"
      },
      "source": [
        "# New section"
      ]
    },
    {
      "cell_type": "code",
      "metadata": {
        "id": "pTO7UQD8VDt0"
      },
      "source": [
        "#Read userid-songid-listen_count triplets\n",
        "#This step might take time to download data from external sources\n",
        "triplets_file = 'https://static.turi.com/datasets/millionsong/10000.txt'\n",
        "songs_metadata_file = 'https://static.turi.com/datasets/millionsong/song_data.csv'\n",
        "\n",
        "song_df_1 = pd.read_table(triplets_file,header=None)\n",
        "song_df_1.columns = ['user_id', 'song_id', 'listen_count']\n",
        "\n",
        "#Read song  metadata\n",
        "song_df_2 =  pd.read_csv(songs_metadata_file)\n",
        "\n",
        "#Merge the two dataframes above to create input dataframe for recommender systems\n",
        "song_df = pd.merge(song_df_1, song_df_2.drop_duplicates(['song_id']), on=\"song_id\", how=\"left\")\n",
        "\n",
        "song_df.head()"
      ],
      "execution_count": null,
      "outputs": []
    },
    {
      "cell_type": "code",
      "metadata": {
        "id": "LpOA-G-gVLx0",
        "colab": {
          "base_uri": "https://localhost:8080/",
          "height": 34
        },
        "outputId": "9fc90a73-6704-477a-faf4-abf660544ddf"
      },
      "source": [
        "len(song_df)"
      ],
      "execution_count": null,
      "outputs": [
        {
          "output_type": "execute_result",
          "data": {
            "text/plain": [
              "10000"
            ]
          },
          "metadata": {
            "tags": []
          },
          "execution_count": 15
        }
      ]
    },
    {
      "cell_type": "code",
      "metadata": {
        "id": "JA4MybP4VQzF",
        "colab": {
          "base_uri": "https://localhost:8080/",
          "height": 402
        },
        "outputId": "5a479888-ae5c-4bff-adbd-1973ff92026c"
      },
      "source": [
        "#Create a subset of the dataset\n",
        "song_df = song_df.head(10000)\n",
        "\n",
        "#Merge song title and artist_name columns to make a merged column\n",
        "song_df['song'] = song_df['title'].map(str) + \" - \" + song_df['artist_name']\n",
        "\n",
        "song_grouped = song_df.groupby(['song']).agg({'listen_count': 'count'}).reset_index()\n",
        "grouped_sum = song_grouped['listen_count'].sum()\n",
        "song_grouped['percentage']  = song_grouped['listen_count'].div(grouped_sum)*100\n",
        "song_grouped.sort_values(['listen_count', 'song'], ascending = [0,1])"
      ],
      "execution_count": null,
      "outputs": [
        {
          "output_type": "execute_result",
          "data": {
            "text/html": [
              "<div>\n",
              "<style scoped>\n",
              "    .dataframe tbody tr th:only-of-type {\n",
              "        vertical-align: middle;\n",
              "    }\n",
              "\n",
              "    .dataframe tbody tr th {\n",
              "        vertical-align: top;\n",
              "    }\n",
              "\n",
              "    .dataframe thead th {\n",
              "        text-align: right;\n",
              "    }\n",
              "</style>\n",
              "<table border=\"1\" class=\"dataframe\">\n",
              "  <thead>\n",
              "    <tr style=\"text-align: right;\">\n",
              "      <th></th>\n",
              "      <th>song</th>\n",
              "      <th>listen_count</th>\n",
              "      <th>percentage</th>\n",
              "    </tr>\n",
              "  </thead>\n",
              "  <tbody>\n",
              "    <tr>\n",
              "      <th>3660</th>\n",
              "      <td>Sehr kosmisch - Harmonia</td>\n",
              "      <td>45</td>\n",
              "      <td>0.45</td>\n",
              "    </tr>\n",
              "    <tr>\n",
              "      <th>4678</th>\n",
              "      <td>Undo - Björk</td>\n",
              "      <td>32</td>\n",
              "      <td>0.32</td>\n",
              "    </tr>\n",
              "    <tr>\n",
              "      <th>5105</th>\n",
              "      <td>You're The One - Dwight Yoakam</td>\n",
              "      <td>32</td>\n",
              "      <td>0.32</td>\n",
              "    </tr>\n",
              "    <tr>\n",
              "      <th>1071</th>\n",
              "      <td>Dog Days Are Over (Radio Edit) - Florence + Th...</td>\n",
              "      <td>28</td>\n",
              "      <td>0.28</td>\n",
              "    </tr>\n",
              "    <tr>\n",
              "      <th>3655</th>\n",
              "      <td>Secrets - OneRepublic</td>\n",
              "      <td>28</td>\n",
              "      <td>0.28</td>\n",
              "    </tr>\n",
              "    <tr>\n",
              "      <th>...</th>\n",
              "      <td>...</td>\n",
              "      <td>...</td>\n",
              "      <td>...</td>\n",
              "    </tr>\n",
              "    <tr>\n",
              "      <th>5139</th>\n",
              "      <td>high fives - Four Tet</td>\n",
              "      <td>1</td>\n",
              "      <td>0.01</td>\n",
              "    </tr>\n",
              "    <tr>\n",
              "      <th>5140</th>\n",
              "      <td>in white rooms - Booka Shade</td>\n",
              "      <td>1</td>\n",
              "      <td>0.01</td>\n",
              "    </tr>\n",
              "    <tr>\n",
              "      <th>5143</th>\n",
              "      <td>paranoid android - Christopher O'Riley</td>\n",
              "      <td>1</td>\n",
              "      <td>0.01</td>\n",
              "    </tr>\n",
              "    <tr>\n",
              "      <th>5149</th>\n",
              "      <td>¿Lo Ves? [Piano Y Voz] - Alejandro Sanz</td>\n",
              "      <td>1</td>\n",
              "      <td>0.01</td>\n",
              "    </tr>\n",
              "    <tr>\n",
              "      <th>5150</th>\n",
              "      <td>Época - Gotan Project</td>\n",
              "      <td>1</td>\n",
              "      <td>0.01</td>\n",
              "    </tr>\n",
              "  </tbody>\n",
              "</table>\n",
              "<p>5151 rows × 3 columns</p>\n",
              "</div>"
            ],
            "text/plain": [
              "                                                   song  ...  percentage\n",
              "3660                           Sehr kosmisch - Harmonia  ...        0.45\n",
              "4678                                       Undo - Björk  ...        0.32\n",
              "5105                     You're The One - Dwight Yoakam  ...        0.32\n",
              "1071  Dog Days Are Over (Radio Edit) - Florence + Th...  ...        0.28\n",
              "3655                              Secrets - OneRepublic  ...        0.28\n",
              "...                                                 ...  ...         ...\n",
              "5139                              high fives - Four Tet  ...        0.01\n",
              "5140                       in white rooms - Booka Shade  ...        0.01\n",
              "5143             paranoid android - Christopher O'Riley  ...        0.01\n",
              "5149            ¿Lo Ves? [Piano Y Voz] - Alejandro Sanz  ...        0.01\n",
              "5150                              Época - Gotan Project  ...        0.01\n",
              "\n",
              "[5151 rows x 3 columns]"
            ]
          },
          "metadata": {
            "tags": []
          },
          "execution_count": 4
        }
      ]
    },
    {
      "cell_type": "code",
      "metadata": {
        "id": "s6eLPWReVTde",
        "colab": {
          "base_uri": "https://localhost:8080/",
          "height": 34
        },
        "outputId": "783f1ea2-9024-4663-b459-fd5b2b57bab4"
      },
      "source": [
        "#Count number of unique users in the dataset\n",
        "users = song_df['user_id'].unique()\n",
        "len(users)"
      ],
      "execution_count": null,
      "outputs": [
        {
          "output_type": "execute_result",
          "data": {
            "text/plain": [
              "365"
            ]
          },
          "metadata": {
            "tags": []
          },
          "execution_count": 16
        }
      ]
    },
    {
      "cell_type": "code",
      "metadata": {
        "id": "f0d8IIFPVVyI",
        "colab": {
          "base_uri": "https://localhost:8080/",
          "height": 34
        },
        "outputId": "a6c6c9eb-9de6-42d9-86e2-657b4b9f0824"
      },
      "source": [
        "#Fill in the code here\n",
        "songs = song_df['song'].unique()\n",
        "len(songs)"
      ],
      "execution_count": null,
      "outputs": [
        {
          "output_type": "execute_result",
          "data": {
            "text/plain": [
              "5151"
            ]
          },
          "metadata": {
            "tags": []
          },
          "execution_count": 6
        }
      ]
    },
    {
      "cell_type": "code",
      "metadata": {
        "id": "MoGOxtC4VXrw"
      },
      "source": [
        "#We arbitrarily pick 20% as our testing size.\n",
        "train_data, test_data = train_test_split(song_df, test_size = 0.20, random_state=0)\n",
        "\n",
        "#Create an instance of popularity based recommender\n",
        "pm = rc.popularity_recommender_py()\n",
        "pm.create(train_data, 'user_id', 'song')\n",
        "\n",
        "#Use the popularity model to make some predictions\n",
        "user_id = users[7]\n",
        "pm.recommend(user_id)"
      ],
      "execution_count": null,
      "outputs": []
    },
    {
      "cell_type": "code",
      "metadata": {
        "id": "O5j-7S0IVexz"
      },
      "source": [
        "#Fill in the code here\n",
        "user_id = users[30]\n",
        "pm.recommend(user_id)"
      ],
      "execution_count": null,
      "outputs": []
    },
    {
      "cell_type": "code",
      "metadata": {
        "id": "MA80DfgdVqWV"
      },
      "source": [
        "#Recommenders.item_similarity_recommender_py\n",
        "\n",
        "#Create an instance of item similarity based recommender \n",
        "is_model = rc.item_similarity_recommender_py()\n",
        "is_model.create(train_data, 'user_id', 'song')\n",
        "\n",
        "#Use the personalized model to make some song recommendations\n",
        "#Print the songs for the user in training data\n",
        "user_id = users[5]\n",
        "user_items = is_model.get_user_items(user_id)\n",
        "#\n",
        "print(\"------------------------------------------------------------------------------------\")\n",
        "print(\"Training data songs for the user userid: %s:\" % user_id)\n",
        "print(\"------------------------------------------------------------------------------------\")\n",
        "\n",
        "for user_item in user_items:\n",
        "    print(user_item)\n",
        "\n",
        "print(\"----------------------------------------------------------------------\")\n",
        "print(\"Recommendation process going on:\")\n",
        "print(\"----------------------------------------------------------------------\")\n",
        "\n",
        "#Recommend songs for the user using personalized model\n",
        "is_model.recommend(user_id)"
      ],
      "execution_count": null,
      "outputs": []
    },
    {
      "cell_type": "code",
      "metadata": {
        "id": "nItsZKqJV-y_"
      },
      "source": [
        "#Use the personalized model to make recommendations for the following user id. (Note the difference in recommendations from the first user id.)\n",
        "user_id = users[25]\n",
        "\n",
        "#Fill in the code here\n",
        "user_items = is_model.get_user_items(user_id)\n",
        "#\n",
        "print(\"------------------------------------------------------------------------------------\")\n",
        "print(\"Training data songs for the user userid: %s:\" % user_id)\n",
        "print(\"------------------------------------------------------------------------------------\")\n",
        "\n",
        "for user_item in user_items:\n",
        "    print(user_item)\n",
        "\n",
        "print(\"----------------------------------------------------------------------\")\n",
        "print(\"Recommendation process going on:\")\n",
        "print(\"----------------------------------------------------------------------\")\n",
        "\n",
        "#Recommend songs for the user using personalized model\n",
        "is_model.recommend(user_id)"
      ],
      "execution_count": null,
      "outputs": []
    },
    {
      "cell_type": "code",
      "metadata": {
        "id": "b-3ItWCYWZO8"
      },
      "source": [
        "#We can also apply the model to find similar songs to any song in the dataset\n",
        "is_model.get_similar_items(['Too Deep - Girl Talk'])"
      ],
      "execution_count": null,
      "outputs": []
    },
    {
      "cell_type": "code",
      "metadata": {
        "id": "1lfz-XNlWcj1"
      },
      "source": [
        "#Use the personalized recommender model to get similar songs for the following song.\n",
        "song = 'Too Deep - Girl Talk'\n",
        "\n",
        "#Fill in the code here\n",
        "is_model.get_similar_items([song])"
      ],
      "execution_count": null,
      "outputs": []
    },
    {
      "cell_type": "code",
      "metadata": {
        "id": "vNLd9ftBWs4s"
      },
      "source": [
        "#Class to calculate precision and recall (This can be used as a black box)\n",
        "\n",
        "#Evaluation.precision_recall_calculator\n",
        "#Use the above precision recall calculator class to calculate the evaluation measures\n",
        "\n",
        "start = tm.time()\n",
        "\n",
        "#Define what percentage of users to use for precision recall calculation\n",
        "user_sample = 0.05\n",
        "\n",
        "#Instantiate the precision_recall_calculator class\n",
        "pr = ev.precision_recall_calculator(test_data, train_data, pm, is_model)\n",
        "\n",
        "#Call method to calculate precision and recall values\n",
        "(pm_avg_precision_list, pm_avg_recall_list, ism_avg_precision_list, ism_avg_recall_list) = pr.calculate_measures(user_sample)\n",
        "\n",
        "end = tm.time()\n",
        "print(end - start)"
      ],
      "execution_count": null,
      "outputs": []
    },
    {
      "cell_type": "code",
      "metadata": {
        "id": "MbCJ_uLZXDuu"
      },
      "source": [
        "#Code to plot precision recall curve\n",
        "import pylab as pl\n",
        "!pip install joblib\n",
        "from sklearn.externals import joblib\n",
        "\n",
        "#Method to generate precision and recall curve\n",
        "def plot_precision_recall(m1_precision_list, m1_recall_list, m1_label, m2_precision_list, m2_recall_list, m2_label):\n",
        "    plt.clf()    \n",
        "    plt.plot(m1_recall_list, m1_precision_list, label=m1_label)\n",
        "    plt.plot(m2_recall_list, m2_precision_list, label=m2_label)\n",
        "    plt.xlabel('Recall')\n",
        "    plt.ylabel('Precision')\n",
        "    plt.ylim([0.0, 0.20])\n",
        "    plt.xlim([0.0, 0.20])\n",
        "    plt.title('Precision-Recall curve')\n",
        "    #plt.legend(loc=\"upper right\")\n",
        "    plt.legend(loc=9, bbox_to_anchor=(0.5, -0.2))\n",
        "    plt.show()\n",
        "\n",
        "print(\"Plotting precision recall curves.\")\n",
        "\n",
        "plot_precision_recall(pm_avg_precision_list, pm_avg_recall_list, \"popularity_model\",\n",
        "                      ism_avg_precision_list, ism_avg_recall_list, \"item_similarity_model\")"
      ],
      "execution_count": null,
      "outputs": []
    },
    {
      "cell_type": "code",
      "metadata": {
        "id": "yQDLjwEzXtuE"
      },
      "source": [
        "#Generate Precision Recall curve using pickled results on a larger data subset(Python 3)\n",
        "print(\"Plotting precision recall curves for a larger subset of data (100,000 rows) (user sample = 0.005).\")\n",
        "\n",
        "#Read the persisted files \n",
        "pm_avg_precision_list = joblib.load('content/pm_avg_precision_list_3.pkl')\n",
        "pm_avg_recall_list = joblib.load('content/pm_avg_recall_list_3.pkl')\n",
        "ism_avg_precision_list = joblib.load('content/ism_avg_precision_list_3.pkl')\n",
        "ism_avg_recall_list = joblib.load('content/ism_avg_recall_list_3.pkl')\n",
        "\n",
        "print(\"Plotting precision recall curves.\")\n",
        "plot_precision_recall(pm_avg_precision_list, pm_avg_recall_list, \"popularity_model\",\n",
        "                      ism_avg_precision_list, ism_avg_recall_list, \"item_similarity_model\")"
      ],
      "execution_count": null,
      "outputs": []
    },
    {
      "cell_type": "code",
      "metadata": {
        "id": "ZYdYqTQYdEfm"
      },
      "source": [
        "#Matrix Factorization based Recommender System\n",
        "!pip install sparsesvd\n",
        "import math as mt\n",
        "import csv\n",
        "from sparsesvd import sparsesvd #used for matrix factorization\n",
        "import numpy as np\n",
        "from scipy.sparse import csc_matrix #used for sparse matrix\n",
        "from scipy.sparse.linalg import * #used for matrix multiplication"
      ],
      "execution_count": null,
      "outputs": []
    },
    {
      "cell_type": "code",
      "metadata": {
        "id": "5OVOLqNudgpT"
      },
      "source": [
        "#constants defining the dimensions of our User Rating Matrix (URM)\n",
        "MAX_PID = 4\n",
        "MAX_UID = 5\n",
        "\n",
        "#Compute SVD of the user ratings matrix\n",
        "def computeSVD(urm, K):\n",
        "    U, s, Vt = sparsesvd(urm, K)\n",
        "\n",
        "    dim = (len(s), len(s))\n",
        "    S = np.zeros(dim, dtype=np.float32)\n",
        "    for i in range(0, len(s)):\n",
        "        S[i,i] = mt.sqrt(s[i])\n",
        "\n",
        "    U = csc_matrix(np.transpose(U), dtype=np.float32)\n",
        "    S = csc_matrix(S, dtype=np.float32)\n",
        "    Vt = csc_matrix(Vt, dtype=np.float32)\n",
        "    \n",
        "    return U, S, Vt\n",
        "\n",
        "#Compute estimated rating for the test user\n",
        "def computeEstimatedRatings(urm, U, S, Vt, uTest, K, test):\n",
        "    rightTerm = S*Vt \n",
        "\n",
        "    estimatedRatings = np.zeros(shape=(MAX_UID, MAX_PID), dtype=np.float16)\n",
        "    for userTest in uTest:\n",
        "        prod = U[userTest, :]*rightTerm\n",
        "        #we convert the vector to dense format in order to get the indices \n",
        "        #of the movies with the best estimated ratings \n",
        "        estimatedRatings[userTest, :] = prod.todense()\n",
        "        recom = (-estimatedRatings[userTest, :]).argsort()[:250]\n",
        "    return recom"
      ],
      "execution_count": null,
      "outputs": []
    },
    {
      "cell_type": "code",
      "metadata": {
        "id": "qOq-KqWfeAFB",
        "colab": {
          "base_uri": "https://localhost:8080/",
          "height": 67
        },
        "outputId": "d3a2c186-e32d-4a4b-8841-966f0e909b67"
      },
      "source": [
        "#Used in SVD calculation (number of latent factors)\n",
        "K=2\n",
        "\n",
        "#Initialize a sample user rating matrix\n",
        "urm = np.array([[3, 0, 2, 3],[4, 3, 4, 3],[0, 2, 1, 5], [1, 4, 5, 2], [5, 0,0 , 0]])\n",
        "urm = csc_matrix(urm, dtype=np.float32)\n",
        "\n",
        "#Compute SVD of the input user ratings matrix\n",
        "U, S, Vt = computeSVD(urm, K)\n",
        "\n",
        "#Test user set as user_id 4 with ratings [0, 0, 5, 0]\n",
        "uTest = [4]\n",
        "print(\"User id for whom recommendations are needed: %d\" % uTest[0])\n",
        "\n",
        "#Get estimated rating for test user\n",
        "print(\"Predictied ratings:\")\n",
        "uTest_recommended_items = computeEstimatedRatings(urm, U, S, Vt, uTest, K, True)\n",
        "print(uTest_recommended_items)"
      ],
      "execution_count": null,
      "outputs": [
        {
          "output_type": "stream",
          "text": [
            "User id for whom recommendations are needed: 4\n",
            "Predictied ratings:\n",
            "[0 2 3 1]\n"
          ],
          "name": "stdout"
        }
      ]
    },
    {
      "cell_type": "code",
      "metadata": {
        "id": "oddJXaWjeHcu",
        "colab": {
          "base_uri": "https://localhost:8080/",
          "height": 314
        },
        "outputId": "d31beb74-fbdd-4f87-8bf0-7ef712bffb6d"
      },
      "source": [
        "#Understanding Intuition behind SVD\n",
        "%matplotlib inline\n",
        "from pylab import *\n",
        "\n",
        "#Plot all the users\n",
        "print(\"Matrix Dimensions for U\")\n",
        "print(U.shape)\n",
        "\n",
        "for i in range(0, U.shape[0]):\n",
        "    plot(U[i,0], U[i,1], marker = \"*\", label=\"user\"+str(i))\n",
        "\n",
        "for j in range(0, Vt.T.shape[0]):\n",
        "    plot(Vt.T[j,0], Vt.T[j,1], marker = 'd', label=\"item\"+str(j))    \n",
        "    \n",
        "legend(loc=\"upper right\")\n",
        "title('User vectors in the Latent semantic space')\n",
        "ylim([-0.7, 0.7])\n",
        "xlim([-0.7, 0])\n",
        "show()"
      ],
      "execution_count": null,
      "outputs": [
        {
          "output_type": "stream",
          "text": [
            "Matrix Dimensions for U\n",
            "(5, 2)\n"
          ],
          "name": "stdout"
        },
        {
          "output_type": "display_data",
          "data": {
            "image/png": "[encoded data removed]",
            "text/plain": [
              "<Figure size 432x288 with 1 Axes>"
            ]
          },
          "metadata": {
            "tags": [],
            "needs_background": "light"
          }
        }
      ]
    }
  ]
}